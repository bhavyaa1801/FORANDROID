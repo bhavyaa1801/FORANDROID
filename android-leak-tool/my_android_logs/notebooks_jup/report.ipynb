{
 "cells": [
  {
   "cell_type": "code",
   "execution_count": 2,
   "id": "265c6e9d-250d-4dc6-ba5d-f3d4dee0ba18",
   "metadata": {},
   "outputs": [
    {
     "name": "stdin",
     "output_type": "stream",
     "text": [
      "Enter case folder name:  trainning_case\n"
     ]
    },
    {
     "name": "stdout",
     "output_type": "stream",
     "text": [
      "✅ Report saved at: /home/jovyan/my_android_logs/CASE_FILES_raw_logs/trainning_case/trainning_case_IP_FINAL_REPORT.csv\n"
     ]
    }
   ],
   "source": [
    "import pandas as pd\n",
    "import os\n",
    "\n",
    "base_path = \"/home/jovyan/my_android_logs/CASE_FILES_raw_logs\"\n",
    "case_name = input(\"Enter case folder name: \").strip()\n",
    "\n",
    "# Load master list of enriched IPs\n",
    "master_path = os.path.join(\"/home/jovyan/my_android_logs\", \"master_suspicious_ip_report.csv\")\n",
    "master_df = pd.read_csv(master_path)\n",
    "\n",
    "# Filter only rows for this case\n",
    "case_df = master_df[master_df[\"case_name\"] == case_name]\n",
    "\n",
    "if case_df.empty:\n",
    "    print(f\"⚠️ No enriched IPs found for case: {case_name}\")\n",
    "else:\n",
    "    report_path = os.path.join(base_path, case_name, f\"{case_name}_IP_FINAL_REPORT.csv\")\n",
    "    case_df.to_csv(report_path, index=False)\n",
    "    print(f\"✅ Report saved at: {report_path}\")\n"
   ]
  },
  {
   "cell_type": "code",
   "execution_count": null,
   "id": "b79a13ec-8964-4b01-a321-ee32c5f26336",
   "metadata": {},
   "outputs": [],
   "source": []
  }
 ],
 "metadata": {
  "kernelspec": {
   "display_name": "Python 3 (ipykernel)",
   "language": "python",
   "name": "python3"
  },
  "language_info": {
   "codemirror_mode": {
    "name": "ipython",
    "version": 3
   },
   "file_extension": ".py",
   "mimetype": "text/x-python",
   "name": "python",
   "nbconvert_exporter": "python",
   "pygments_lexer": "ipython3",
   "version": "3.12.10"
  }
 },
 "nbformat": 4,
 "nbformat_minor": 5
}
