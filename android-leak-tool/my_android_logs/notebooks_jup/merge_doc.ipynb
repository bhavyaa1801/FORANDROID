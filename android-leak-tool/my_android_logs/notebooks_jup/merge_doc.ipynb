{
 "cells": [
  {
   "cell_type": "code",
   "execution_count": null,
   "id": "09ab4485-1608-40bf-9b38-afb7f442119d",
   "metadata": {},
   "outputs": [],
   "source": [
    "import os\n",
    "import pandas as pd\n",
    "\n",
    "# === 1. Set Case Folder ===\n",
    "base_path = \"/home/jovyan/my_android_logs/CASE_FILES_raw_logs\"\n",
    "case_name = input(\"📁 Enter the case folder name: \").strip()\n",
    "case_folder = os.path.join(base_path, case_name)\n",
    "\n",
    "# === 2. File Paths ===\n",
    "port_file = os.path.join(case_folder, f\"{case_name}_PORT_SCAN.csv\")\n",
    "app_file = os.path.join(case_folder, f\"{case_name}_IP_FINAL_REPORT.csv\")\n",
    "output_file = os.path.join(case_folder, f\"{case_name}_PORT_BEHAVIOR_REPORT.csv\")\n",
    "\n",
    "# === 3. Check if port scan file exists ===\n",
    "if not os.path.exists(port_file):\n",
    "    print(f\"Port scan file not found: {port_file}\")\n",
    "    print(\"Please run the port scan first.\")\n",
    "else:\n",
    "    # === 4. Load Data ===\n",
    "    df_ports = pd.read_csv(port_file)\n",
    "    df_apps = pd.read_csv(app_file)\n",
    "\n",
    "    # === 5. Normalize IP Columns ===\n",
    "    df_ports[\"ip\"] = df_ports[\"ip\"].astype(str).str.strip()\n",
    "    df_apps[\"ip\"] = df_apps[\"ip\"].astype(str).str.strip()\n",
    "\n",
    "    # === 6. Fix column if needed\n",
    "    if \"process_name\" in df_apps.columns and \"app_name\" not in df_apps.columns:\n",
    "        df_apps.rename(columns={\"process_name\": \"app_name\"}, inplace=True)\n",
    "\n",
    "    # === 7. Merge on IP (preserve all details from both files)\n",
    "    merged = pd.merge(df_ports, df_apps, on=\"ip\", how=\"left\")\n",
    "\n",
    "    # === 8. Add Risk Level (based on 'tag' column if it exists)\n",
    "    if \"tag\" in merged.columns:\n",
    "        merged[\"risk_level\"] = merged[\"tag\"].str.upper().fillna(\"LOW\")\n",
    "    else:\n",
    "        merged[\"risk_level\"] = \"LOW\"\n",
    "\n",
    "    # === 9. Save Final Output\n",
    "    merged.to_csv(output_file, index=False)\n",
    "    print(f\"\\n✅ Final report saved to: {output_file}\")\n",
    "\n",
    "    # === 10. Show All Columns (First Few Rows)\n",
    "    display(merged.head())  # show all merged columns, not just a subset\n"
   ]
  }
 ],
 "metadata": {
  "kernelspec": {
   "display_name": "Python 3 (ipykernel)",
   "language": "python",
   "name": "python3"
  },
  "language_info": {
   "codemirror_mode": {
    "name": "ipython",
    "version": 3
   },
   "file_extension": ".py",
   "mimetype": "text/x-python",
   "name": "python",
   "nbconvert_exporter": "python",
   "pygments_lexer": "ipython3",
   "version": "3.12.10"
  }
 },
 "nbformat": 4,
 "nbformat_minor": 5
}
